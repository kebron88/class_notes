{
 "cells": [
  {
   "cell_type": "code",
   "execution_count": 1,
   "metadata": {},
   "outputs": [
    {
     "name": "stdout",
     "output_type": "stream",
     "text": [
      "Hello World\n",
      "Today is a lovely day\n",
      "Hello World\n",
      "Today is a lovely day\n",
      "Hello World\n",
      "Today is a lovely day\n"
     ]
    }
   ],
   "source": [
    "#f1() executes the code under the def f1(): clause\n",
    "def f1():\n",
    "    print(\"Hello World\")\n",
    "    print(\"Today is a lovely day\")\n",
    "f1()\n",
    "f1()\n",
    "f1()"
   ]
  },
  {
   "cell_type": "code",
   "execution_count": 2,
   "metadata": {},
   "outputs": [
    {
     "name": "stdout",
     "output_type": "stream",
     "text": [
      "Hello World\n"
     ]
    }
   ],
   "source": [
    "#by using the \"return\" keyword, and executed function is equal to the value it returns. Note: the return keyword \n",
    "#should only be used within a function or class method. \n",
    "def f2():\n",
    "    return \"Hello World\"\n",
    "\n",
    "y=f2()\n",
    "print(y)"
   ]
  },
  {
   "cell_type": "code",
   "execution_count": 4,
   "metadata": {},
   "outputs": [
    {
     "name": "stdout",
     "output_type": "stream",
     "text": [
      "Hello World\n",
      "Today is a lovely day\n"
     ]
    }
   ],
   "source": [
    "def f3():\n",
    "    print(\"Hello World\")\n",
    "    return \"Today is a lovely day\"\n",
    "x=f3()\n",
    "print(x)"
   ]
  },
  {
   "cell_type": "code",
   "execution_count": 9,
   "metadata": {},
   "outputs": [
    {
     "data": {
      "text/plain": [
       "4"
      ]
     },
     "execution_count": 9,
     "metadata": {},
     "output_type": "execute_result"
    }
   ],
   "source": [
    "#function can have one or more arguments passed in. The result of executing this function then depends on the value\n",
    "#of the argument passed in\n",
    "def f4(x):\n",
    "    return x**2\n",
    "\n",
    "y = f4(2)\n",
    "y"
   ]
  },
  {
   "cell_type": "code",
   "execution_count": 10,
   "metadata": {},
   "outputs": [
    {
     "name": "stdout",
     "output_type": "stream",
     "text": [
      "25\n"
     ]
    }
   ],
   "source": [
    "#functions can have multiple argements passed in\n",
    "def f4(x,y):\n",
    "    return x**2+y**2\n",
    "\n",
    "x=3\n",
    "y=4\n",
    "z=f4(x,y)\n",
    "print(z)"
   ]
  },
  {
   "cell_type": "code",
   "execution_count": 14,
   "metadata": {},
   "outputs": [
    {
     "name": "stdout",
     "output_type": "stream",
     "text": [
      "[1, 2, 3]\n"
     ]
    }
   ],
   "source": [
    "#built in method\n",
    "l=[1,2,3]\n",
    "print(l)\n",
    "l.append(4)"
   ]
  },
  {
   "cell_type": "code",
   "execution_count": 15,
   "metadata": {},
   "outputs": [
    {
     "data": {
      "text/plain": [
       "[1, 2, 3, 4]"
      ]
     },
     "execution_count": 15,
     "metadata": {},
     "output_type": "execute_result"
    }
   ],
   "source": [
    "l"
   ]
  },
  {
   "cell_type": "code",
   "execution_count": 16,
   "metadata": {},
   "outputs": [
    {
     "name": "stdout",
     "output_type": "stream",
     "text": [
      "5\n"
     ]
    }
   ],
   "source": [
    "#functions can make use of other functions written\n",
    "def f5(x):\n",
    "    return x**2\n",
    "def f6(x):\n",
    "    return f5(x)+1\n",
    "\n",
    "x=2\n",
    "y=f6(x)\n",
    "print(y)"
   ]
  },
  {
   "cell_type": "code",
   "execution_count": 19,
   "metadata": {},
   "outputs": [
    {
     "name": "stdout",
     "output_type": "stream",
     "text": [
      "Hello Charlie\n",
      "Hello World\n"
     ]
    }
   ],
   "source": [
    "#default arguments. If the value of y is not specified when executing the function, it is assumed to have the value \n",
    "#\"World\"\n",
    "def f7(x,y=\"World\"):\n",
    "    return x+y\n",
    "x=\"Hello \"\n",
    "s=f7(x,y=\"Charlie\")\n",
    "print(s)\n",
    "print(f7(x))"
   ]
  },
  {
   "cell_type": "code",
   "execution_count": 21,
   "metadata": {},
   "outputs": [
    {
     "name": "stdout",
     "output_type": "stream",
     "text": [
      "2\n"
     ]
    },
    {
     "ename": "NameError",
     "evalue": "name 'k' is not defined",
     "output_type": "error",
     "traceback": [
      "\u001b[0;31m---------------------------------------------------------------------------\u001b[0m",
      "\u001b[0;31mNameError\u001b[0m                                 Traceback (most recent call last)",
      "\u001b[0;32m<ipython-input-21-2f4516c1927b>\u001b[0m in \u001b[0;36m<module>\u001b[0;34m\u001b[0m\n\u001b[1;32m      7\u001b[0m \u001b[0my\u001b[0m\u001b[0;34m=\u001b[0m\u001b[0mf8\u001b[0m\u001b[0;34m(\u001b[0m\u001b[0mx\u001b[0m\u001b[0;34m)\u001b[0m\u001b[0;34m\u001b[0m\u001b[0;34m\u001b[0m\u001b[0m\n\u001b[1;32m      8\u001b[0m \u001b[0mprint\u001b[0m\u001b[0;34m(\u001b[0m\u001b[0my\u001b[0m\u001b[0;34m)\u001b[0m\u001b[0;34m\u001b[0m\u001b[0;34m\u001b[0m\u001b[0m\n\u001b[0;32m----> 9\u001b[0;31m \u001b[0mprint\u001b[0m\u001b[0;34m(\u001b[0m\u001b[0mk\u001b[0m\u001b[0;34m)\u001b[0m\u001b[0;34m\u001b[0m\u001b[0;34m\u001b[0m\u001b[0m\n\u001b[0m",
      "\u001b[0;31mNameError\u001b[0m: name 'k' is not defined"
     ]
    }
   ],
   "source": [
    "#k is initialized within the function as a local variable, so it is not remembered as a global variable \n",
    "#(outside the function)\n",
    "def f8(x):\n",
    "    k=1\n",
    "    return x+k\n",
    "x=1\n",
    "y=f8(x)\n",
    "print(y)\n",
    "print(k)"
   ]
  },
  {
   "cell_type": "code",
   "execution_count": 23,
   "metadata": {},
   "outputs": [
    {
     "name": "stdout",
     "output_type": "stream",
     "text": [
      "2\n"
     ]
    }
   ],
   "source": [
    "#global variable that is used within a function\n",
    "def f9(x):\n",
    "    return x+k\n",
    "k=1\n",
    "x=1\n",
    "y=f9(x)\n",
    "print(y)"
   ]
  },
  {
   "cell_type": "code",
   "execution_count": 24,
   "metadata": {},
   "outputs": [
    {
     "name": "stdout",
     "output_type": "stream",
     "text": [
      "2\n",
      "4\n"
     ]
    }
   ],
   "source": [
    "#k is a global variable but since a local variable k was initialized within the function, the value of 1 is used \n",
    "#while executing the function and 4 is still used outside the function\n",
    "k=4\n",
    "def f10(x):\n",
    "    k=1\n",
    "    return x+k\n",
    "x=1\n",
    "y=f10(x)\n",
    "print(y)\n",
    "print(k)"
   ]
  },
  {
   "cell_type": "code",
   "execution_count": 26,
   "metadata": {},
   "outputs": [
    {
     "name": "stdout",
     "output_type": "stream",
     "text": [
      "['a', 'c']\n"
     ]
    }
   ],
   "source": [
    "#changing a global variable within a function\n",
    "l=['a','b']\n",
    "def f11():\n",
    "    l[1]='c'\n",
    "f11()\n",
    "print(l)"
   ]
  },
  {
   "cell_type": "code",
   "execution_count": 27,
   "metadata": {},
   "outputs": [
    {
     "name": "stdout",
     "output_type": "stream",
     "text": [
      "2\n"
     ]
    }
   ],
   "source": [
    "#reinitializing a global variable within a function. Typically it isn't neccesary to do this. \n",
    "p=1\n",
    "def f12():\n",
    "    global p\n",
    "    p=p+1\n",
    "f12()\n",
    "print(p)"
   ]
  }
 ],
 "metadata": {
  "kernelspec": {
   "display_name": "Python 3",
   "language": "python",
   "name": "python3"
  },
  "language_info": {
   "codemirror_mode": {
    "name": "ipython",
    "version": 3
   },
   "file_extension": ".py",
   "mimetype": "text/x-python",
   "name": "python",
   "nbconvert_exporter": "python",
   "pygments_lexer": "ipython3",
   "version": "3.7.3"
  }
 },
 "nbformat": 4,
 "nbformat_minor": 2
}
