{
 "cells": [
  {
   "cell_type": "markdown",
   "metadata": {},
   "source": [
    "if/elif/else statements"
   ]
  },
  {
   "cell_type": "code",
   "execution_count": 3,
   "metadata": {},
   "outputs": [
    {
     "name": "stdout",
     "output_type": "stream",
     "text": [
      "x is greater than y\n"
     ]
    }
   ],
   "source": [
    "x = 10\n",
    "y = 8\n",
    "#condition is true so print statment was run\n",
    "if x > y:\n",
    "    print('x is greater than y')"
   ]
  },
  {
   "cell_type": "code",
   "execution_count": 4,
   "metadata": {},
   "outputs": [],
   "source": [
    "x = 5\n",
    "y = 8\n",
    "#condition is not true here so nothing happened\n",
    "if x > y:\n",
    "    print('x is greater than y')\n",
    "    print('x is greater than y')"
   ]
  },
  {
   "cell_type": "code",
   "execution_count": 5,
   "metadata": {},
   "outputs": [
    {
     "name": "stdout",
     "output_type": "stream",
     "text": [
      "x is greater than y\n"
     ]
    }
   ],
   "source": [
    "x = 10\n",
    "y = 8\n",
    "#if the first condition is true, run the code under the \"if\" clause,\n",
    "#otherwise run the code in the \"else\" clause\n",
    "if x > y:\n",
    "    print('x is greater than y')\n",
    "else:\n",
    "    print('x is not greater than y')"
   ]
  },
  {
   "cell_type": "code",
   "execution_count": 6,
   "metadata": {},
   "outputs": [
    {
     "name": "stdout",
     "output_type": "stream",
     "text": [
      "x is not greater than y\n"
     ]
    }
   ],
   "source": [
    "x = 5\n",
    "y = 8\n",
    "#if the first condition is true, run the code under the \"if\" clause,\n",
    "#otherwise run the code in the \"else\" clause\n",
    "if x > y:\n",
    "    print('x is greater than y')\n",
    "else:\n",
    "    print('x is not greater than y')"
   ]
  },
  {
   "cell_type": "code",
   "execution_count": 8,
   "metadata": {},
   "outputs": [
    {
     "ename": "SyntaxError",
     "evalue": "invalid syntax (<ipython-input-8-42bdd964ef76>, line 7)",
     "output_type": "error",
     "traceback": [
      "\u001b[0;36m  File \u001b[0;32m\"<ipython-input-8-42bdd964ef76>\"\u001b[0;36m, line \u001b[0;32m7\u001b[0m\n\u001b[0;31m    else:\u001b[0m\n\u001b[0m       ^\u001b[0m\n\u001b[0;31mSyntaxError\u001b[0m\u001b[0;31m:\u001b[0m invalid syntax\n"
     ]
    }
   ],
   "source": [
    "#can't have code between the if and else statements\n",
    "x = 10\n",
    "y = 8\n",
    "if x > y:\n",
    "    print('x is greater than y')\n",
    "print('in between')\n",
    "else:\n",
    "    print('x is not greater than y')"
   ]
  },
  {
   "cell_type": "code",
   "execution_count": 9,
   "metadata": {},
   "outputs": [
    {
     "name": "stdout",
     "output_type": "stream",
     "text": [
      "x is greater than y\n"
     ]
    }
   ],
   "source": [
    "x = 10\n",
    "y = 8\n",
    "#if the first condition evalates to True then code under the \"if\"\n",
    "#clause runs. Otherwise it checks the condition(s) in the elif \n",
    "#statement(s) in the order they were written and runs the code under \n",
    "#the first clause that evaluates to True. \n",
    "#If none of them do, then code under the \"else\" clause runs\n",
    "if x > y:\n",
    "    print('x is greater than y')\n",
    "elif x == y:\n",
    "    print('x and y are equal')\n",
    "else:\n",
    "    print('y is greater than x')"
   ]
  },
  {
   "cell_type": "code",
   "execution_count": 12,
   "metadata": {},
   "outputs": [],
   "source": [
    "x = 10\n",
    "y = 12\n",
    "#else statement is not required\n",
    "if x > y:\n",
    "    print('x is greater than y')\n",
    "elif x == y:\n",
    "    print('x and y are equal')\n",
    "elif y > x + 5:\n",
    "    print('y is much greater than x')\n",
    "# else:\n",
    "#     print('y is greater than x')"
   ]
  },
  {
   "cell_type": "markdown",
   "metadata": {},
   "source": [
    "While Loops"
   ]
  },
  {
   "cell_type": "code",
   "execution_count": 1,
   "metadata": {},
   "outputs": [
    {
     "name": "stdout",
     "output_type": "stream",
     "text": [
      "0\n",
      "1\n",
      "2\n",
      "3\n",
      "4\n",
      "5\n",
      "6\n",
      "7\n",
      "8\n",
      "9\n"
     ]
    }
   ],
   "source": [
    "count = 0\n",
    "#code underneath while loop clause evaluates over and over again until\n",
    "#the condition count < 10 evaluates to False\n",
    "while count < 10:\n",
    "    print(count)\n",
    "    count = count + 1"
   ]
  },
  {
   "cell_type": "markdown",
   "metadata": {},
   "source": [
    "For Loops"
   ]
  },
  {
   "cell_type": "code",
   "execution_count": 13,
   "metadata": {},
   "outputs": [
    {
     "name": "stdout",
     "output_type": "stream",
     "text": [
      "a\n",
      "b\n",
      "c\n",
      "d\n"
     ]
    }
   ],
   "source": [
    "l = ['a','b','c','d']\n",
    "#for loop goes through each element in the list l. With each element, it initializes\n",
    "#a variable x which is equal to the element it is currently on, and then runs the code\n",
    "#under the \"for\" clause\n",
    "for x in l:\n",
    "    print(x)"
   ]
  },
  {
   "cell_type": "code",
   "execution_count": 16,
   "metadata": {},
   "outputs": [
    {
     "data": {
      "text/plain": [
       "[1, 2, 3, 4]"
      ]
     },
     "execution_count": 16,
     "metadata": {},
     "output_type": "execute_result"
    }
   ],
   "source": [
    "#range creates a series of numbers from the starting value up to \n",
    "#but not including the ending value. range(n) is the same as range(0,n)\n",
    "list(range(1,5))"
   ]
  },
  {
   "cell_type": "code",
   "execution_count": 18,
   "metadata": {},
   "outputs": [
    {
     "name": "stdout",
     "output_type": "stream",
     "text": [
      "('a', 1)\n",
      "('a', 2)\n",
      "('a', 3)\n",
      "('a', 4)\n",
      "('b', 1)\n",
      "('b', 2)\n",
      "('b', 3)\n",
      "('b', 4)\n",
      "('c', 1)\n",
      "('c', 2)\n",
      "('c', 3)\n",
      "('c', 4)\n",
      "('d', 1)\n",
      "('d', 2)\n",
      "('d', 3)\n",
      "('d', 4)\n"
     ]
    }
   ],
   "source": [
    "#nested for loop. Within each iteration in l1, it iterates over all\n",
    "#the elements in l2\n",
    "l1 = ['a','b','c','d']\n",
    "l2 = [1,2,3,4]\n",
    "for x in l1:\n",
    "    for y in l2:\n",
    "        print((x,y))"
   ]
  },
  {
   "cell_type": "markdown",
   "metadata": {},
   "source": [
    "try/except statements"
   ]
  },
  {
   "cell_type": "code",
   "execution_count": 19,
   "metadata": {},
   "outputs": [
    {
     "name": "stdout",
     "output_type": "stream",
     "text": [
      "0.5\n",
      "0.3333333333333333\n"
     ]
    },
    {
     "ename": "ZeroDivisionError",
     "evalue": "division by zero",
     "output_type": "error",
     "traceback": [
      "\u001b[0;31m---------------------------------------------------------------------------\u001b[0m",
      "\u001b[0;31mZeroDivisionError\u001b[0m                         Traceback (most recent call last)",
      "\u001b[0;32m<ipython-input-19-89c6e878465b>\u001b[0m in \u001b[0;36m<module>\u001b[0;34m\u001b[0m\n\u001b[1;32m      1\u001b[0m \u001b[0ml\u001b[0m \u001b[0;34m=\u001b[0m \u001b[0;34m[\u001b[0m\u001b[0;36m2\u001b[0m\u001b[0;34m,\u001b[0m\u001b[0;36m3\u001b[0m\u001b[0;34m,\u001b[0m\u001b[0;36m0\u001b[0m\u001b[0;34m,\u001b[0m\u001b[0;34m-\u001b[0m\u001b[0;36m1\u001b[0m\u001b[0;34m,\u001b[0m\u001b[0;36m4\u001b[0m\u001b[0;34m]\u001b[0m\u001b[0;34m\u001b[0m\u001b[0;34m\u001b[0m\u001b[0m\n\u001b[1;32m      2\u001b[0m \u001b[0;32mfor\u001b[0m \u001b[0mx\u001b[0m \u001b[0;32min\u001b[0m \u001b[0ml\u001b[0m\u001b[0;34m:\u001b[0m\u001b[0;34m\u001b[0m\u001b[0;34m\u001b[0m\u001b[0m\n\u001b[0;32m----> 3\u001b[0;31m     \u001b[0mprint\u001b[0m\u001b[0;34m(\u001b[0m\u001b[0;36m1\u001b[0m\u001b[0;34m/\u001b[0m\u001b[0mx\u001b[0m\u001b[0;34m)\u001b[0m\u001b[0;34m\u001b[0m\u001b[0;34m\u001b[0m\u001b[0m\n\u001b[0m",
      "\u001b[0;31mZeroDivisionError\u001b[0m: division by zero"
     ]
    }
   ],
   "source": [
    "l = [2,3,0,-1,4]\n",
    "for x in l:\n",
    "    print(1/x)"
   ]
  },
  {
   "cell_type": "code",
   "execution_count": 23,
   "metadata": {},
   "outputs": [
    {
     "name": "stdout",
     "output_type": "stream",
     "text": [
      "0.2\n"
     ]
    }
   ],
   "source": [
    "#code under the \"try\" clause is run. If it causes an error, then it runs\n",
    "#the code under the \"except\" clause instead\n",
    "x = 5\n",
    "try:\n",
    "    print(1/x)\n",
    "except:\n",
    "    print(\"couldn't run\")"
   ]
  },
  {
   "cell_type": "code",
   "execution_count": 21,
   "metadata": {},
   "outputs": [
    {
     "name": "stdout",
     "output_type": "stream",
     "text": [
      "couldn't run\n"
     ]
    }
   ],
   "source": [
    "x = 0\n",
    "try:\n",
    "    print(1/x)\n",
    "except:\n",
    "    print(\"couldn't run\")"
   ]
  },
  {
   "cell_type": "code",
   "execution_count": 22,
   "metadata": {},
   "outputs": [
    {
     "name": "stdout",
     "output_type": "stream",
     "text": [
      "0.5\n",
      "0.3333333333333333\n",
      "couldn't run\n",
      "-1.0\n",
      "0.25\n"
     ]
    }
   ],
   "source": [
    "l = [2,3,0,-1,4]\n",
    "for x in l:\n",
    "    try:\n",
    "        print(1/x)\n",
    "    except:\n",
    "        print(\"couldn't run\")"
   ]
  },
  {
   "cell_type": "code",
   "execution_count": 24,
   "metadata": {},
   "outputs": [
    {
     "name": "stdout",
     "output_type": "stream",
     "text": [
      "0.5\n",
      "0.3333333333333333\n",
      "can't divide by zero\n",
      "-1.0\n",
      "0.25\n",
      "can't divide by non numeric type\n"
     ]
    }
   ],
   "source": [
    "l = [2,3,0,-1,4,'1']\n",
    "#can catch specific types of errors and run different code in response \n",
    "#to each type. \n",
    "for x in l:\n",
    "    try:\n",
    "        print(1/x)\n",
    "    except ZeroDivisionError:\n",
    "        print(\"can't divide by zero\")\n",
    "    except TypeError:\n",
    "        print(\"can't divide by non numeric type\")"
   ]
  },
  {
   "cell_type": "code",
   "execution_count": 26,
   "metadata": {},
   "outputs": [
    {
     "name": "stdout",
     "output_type": "stream",
     "text": [
      "0.5\n",
      "0.3333333333333333\n",
      "can't divide by zero\n",
      "-1.0\n",
      "0.25\n"
     ]
    },
    {
     "ename": "TypeError",
     "evalue": "unsupported operand type(s) for /: 'int' and 'str'",
     "output_type": "error",
     "traceback": [
      "\u001b[0;31m---------------------------------------------------------------------------\u001b[0m",
      "\u001b[0;31mTypeError\u001b[0m                                 Traceback (most recent call last)",
      "\u001b[0;32m<ipython-input-26-013c713f5b4f>\u001b[0m in \u001b[0;36m<module>\u001b[0;34m\u001b[0m\n\u001b[1;32m      4\u001b[0m \u001b[0;32mfor\u001b[0m \u001b[0mx\u001b[0m \u001b[0;32min\u001b[0m \u001b[0ml\u001b[0m\u001b[0;34m:\u001b[0m\u001b[0;34m\u001b[0m\u001b[0;34m\u001b[0m\u001b[0m\n\u001b[1;32m      5\u001b[0m     \u001b[0;32mtry\u001b[0m\u001b[0;34m:\u001b[0m\u001b[0;34m\u001b[0m\u001b[0;34m\u001b[0m\u001b[0m\n\u001b[0;32m----> 6\u001b[0;31m         \u001b[0mprint\u001b[0m\u001b[0;34m(\u001b[0m\u001b[0;36m1\u001b[0m\u001b[0;34m/\u001b[0m\u001b[0mx\u001b[0m\u001b[0;34m)\u001b[0m\u001b[0;34m\u001b[0m\u001b[0;34m\u001b[0m\u001b[0m\n\u001b[0m\u001b[1;32m      7\u001b[0m     \u001b[0;32mexcept\u001b[0m \u001b[0mZeroDivisionError\u001b[0m\u001b[0;34m:\u001b[0m\u001b[0;34m\u001b[0m\u001b[0;34m\u001b[0m\u001b[0m\n\u001b[1;32m      8\u001b[0m         \u001b[0mprint\u001b[0m\u001b[0;34m(\u001b[0m\u001b[0;34m\"can't divide by zero\"\u001b[0m\u001b[0;34m)\u001b[0m\u001b[0;34m\u001b[0m\u001b[0;34m\u001b[0m\u001b[0m\n",
      "\u001b[0;31mTypeError\u001b[0m: unsupported operand type(s) for /: 'int' and 'str'"
     ]
    }
   ],
   "source": [
    "l = [2,3,0,-1,4,'1']\n",
    "#if an error appears that you did not write a specific clause for, the\n",
    "#program will raise the error\n",
    "for x in l:\n",
    "    try:\n",
    "        print(1/x)\n",
    "    except ZeroDivisionError:\n",
    "        print(\"can't divide by zero\")\n",
    "#     except TypeError:\n",
    "#         print(\"can't divide by non numeric type\")"
   ]
  },
  {
   "cell_type": "code",
   "execution_count": 27,
   "metadata": {},
   "outputs": [
    {
     "name": "stdout",
     "output_type": "stream",
     "text": [
      "0.5\n",
      "0.3333333333333333\n",
      "can't divide by zero\n",
      "-1.0\n",
      "0.25\n",
      "unspecified error\n"
     ]
    }
   ],
   "source": [
    "l = [2,3,0,-1,4,'1']\n",
    "#an \"except\" clause with no error type specified will catch all other\n",
    "#types of errors that you did not specify\n",
    "for x in l:\n",
    "    try:\n",
    "        print(1/x)\n",
    "    except ZeroDivisionError:\n",
    "        print(\"can't divide by zero\")\n",
    "#     except TypeError:\n",
    "#         print(\"can't divide by non numeric type\")\n",
    "    except:\n",
    "        print('unspecified error')"
   ]
  }
 ],
 "metadata": {
  "kernelspec": {
   "display_name": "Python 3",
   "language": "python",
   "name": "python3"
  },
  "language_info": {
   "codemirror_mode": {
    "name": "ipython",
    "version": 3
   },
   "file_extension": ".py",
   "mimetype": "text/x-python",
   "name": "python",
   "nbconvert_exporter": "python",
   "pygments_lexer": "ipython3",
   "version": "3.7.3"
  }
 },
 "nbformat": 4,
 "nbformat_minor": 2
}
