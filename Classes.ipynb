{
 "cells": [
  {
   "cell_type": "code",
   "execution_count": 1,
   "metadata": {},
   "outputs": [
    {
     "name": "stdout",
     "output_type": "stream",
     "text": [
      "2019/08/14\n"
     ]
    }
   ],
   "source": [
    "#\"datetime\" is a class imported from somewhere else and \"today\" is an instance of that datetime class\n",
    "from datetime import datetime\n",
    "today = datetime(2019,8,14)\n",
    "\n",
    "print(today.strftime('%Y/%m/%d'))"
   ]
  },
  {
   "cell_type": "code",
   "execution_count": 3,
   "metadata": {},
   "outputs": [
    {
     "data": {
      "text/plain": [
       "2019"
      ]
     },
     "execution_count": 3,
     "metadata": {},
     "output_type": "execute_result"
    }
   ],
   "source": [
    "today.year"
   ]
  },
  {
   "cell_type": "code",
   "execution_count": 2,
   "metadata": {},
   "outputs": [
    {
     "data": {
      "text/plain": [
       "datetime.datetime"
      ]
     },
     "execution_count": 2,
     "metadata": {},
     "output_type": "execute_result"
    }
   ],
   "source": [
    "#own unique object type\n",
    "type(today)"
   ]
  },
  {
   "cell_type": "code",
   "execution_count": 8,
   "metadata": {},
   "outputs": [
    {
     "name": "stdout",
     "output_type": "stream",
     "text": [
      "Alice ['Math', 'Physics', 'English'] Physics\n",
      "['Math', 'Physics', 'English', 'History']\n",
      "Bob ['Chemistry', 'Sociology'] Psychology 3\n",
      "Congratulations to Alice for earning their degree in Physics\n",
      "Congratulations to Bob from Germany for earning their degree in Psychology\n"
     ]
    }
   ],
   "source": [
    "#classes are sometimes referred to as \"blueprints\" for instances of that class. It specifies attributes and methods\n",
    "#associated with its own object type. For example, a Student can have a name, list of courses and a major associated \n",
    "#with it. A student can also have methods associated with the student object like adding a course to the list of courses\n",
    "#or to create a degree associated with that student. \n",
    "class Student:\n",
    "    #__init__ is an example of a \"magic\" method. This code is run automatically when a student is initialized. Three\n",
    "    #arguments need to be passed in, the name, courses, and major and then the student will have these attributes associated \n",
    "    #with them \n",
    "    def __init__(self, name, courses, major):\n",
    "        self.name = name\n",
    "        self.courses = courses \n",
    "        self.major = major\n",
    "    \n",
    "    #this method changes the courses attribute of a student, so that an extra course is appended to the list. \n",
    "    def add_course(self, newcourse):\n",
    "        self.courses.append(newcourse)\n",
    "    \n",
    "    #this method uses attributes of the student and returns a string that is a function of the students attributes\n",
    "    def show_degree(self):\n",
    "        degree = 'Congratulations to ' + self.name + ' for earning their degree in ' + self.major\n",
    "        return degree\n",
    "\n",
    "#the Foreign_Exchange_Student class inherits from the Student class, which means any instances of the foreign exchange\n",
    "#student class will have all of the attributes and methods of a student, plus whatever extra attributes and methods\n",
    "#we specifiy that are unique to foreign exchange students\n",
    "class Foreign_Exchange_Student(Student):\n",
    "    def __init__(self, name, courses, major, country_of_origin, stay_duration):\n",
    "        #this line runs the init method in the Student class so that foreign exchange students have a name, courses\n",
    "        #list and major. \n",
    "        Student.__init__(self, name, courses, major)\n",
    "        self.country_of_origin = country_of_origin\n",
    "        self.stay_duration = stay_duration\n",
    "    \n",
    "    #method that is unique to foreign exchange students that changes the stay_duration attribute\n",
    "    def increase_stay(self, months):\n",
    "        self.stay_duration += months\n",
    "    \n",
    "    #the show_degree method for foreign exchange students will overwrite the show_degree method for regular students\n",
    "    #if the object is a foreign exchange student. \n",
    "    def show_degree(self):\n",
    "        degree = 'Congratulations to ' + self.name + ' from ' + self.country_of_origin + ' for earning their degree in ' + self.major\n",
    "        return degree \n",
    "    \n",
    "s1 = Student('Alice',['Math','Physics','English'],'Physics')\n",
    "print(s1.name, s1.courses, s1.major)\n",
    "s1.add_course('History')\n",
    "print(s1.courses)\n",
    "s2 = Foreign_Exchange_Student('Bob',['Chemistry','Sociology'],'Psychology','Germany',3)\n",
    "print(s2.name, s2.courses, s2.major, s2.stay_duration)\n",
    "degree1 = s1.show_degree()\n",
    "degree2 = s2.show_degree()\n",
    "print(degree1)\n",
    "print(degree2)"
   ]
  }
 ],
 "metadata": {
  "kernelspec": {
   "display_name": "Python 3",
   "language": "python",
   "name": "python3"
  },
  "language_info": {
   "codemirror_mode": {
    "name": "ipython",
    "version": 3
   },
   "file_extension": ".py",
   "mimetype": "text/x-python",
   "name": "python",
   "nbconvert_exporter": "python",
   "pygments_lexer": "ipython3",
   "version": "3.7.3"
  }
 },
 "nbformat": 4,
 "nbformat_minor": 2
}
